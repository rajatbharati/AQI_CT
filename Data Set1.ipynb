{
 "cells": [
  {
   "cell_type": "code",
   "execution_count": 5,
   "id": "54555ed9",
   "metadata": {},
   "outputs": [],
   "source": [
    "import os\n",
    "import time\n",
    "import requests\n",
    "import sys"
   ]
  },
  {
   "cell_type": "code",
   "execution_count": 7,
   "id": "0104c32d",
   "metadata": {},
   "outputs": [
    {
     "name": "stdout",
     "output_type": "stream",
     "text": [
      "Time taken 19.126678705215454\n"
     ]
    }
   ],
   "source": [
    "def retrieve_html():\n",
    "    for year in range(2013,2022):\n",
    "        for month in range(1,13):\n",
    "            if (month<10):\n",
    "                url=\"http://en.tutiempo.net/climate/0{}-{}/ws-429710.html\".format(month,year)\n",
    "        else:\n",
    "            url=\"http://en.tutiempo.net/climate/{}-{}/ws-429710.html\".format(month,year)\n",
    "            texts=requests.get(url)\n",
    "            text_utf=texts.text.encode('utf=8')\n",
    "            \n",
    "            if not os.path.exists(\"Data_Set1/Html_Data_Set1/{}\".format(year)):\n",
    "                os.makedirs(\"Data_Set1/Html_Data_Set1/{}\".format(year))\n",
    "            with open(\"Data_Set1/Html_Data_Set1/{}/{}.html\".format(year,month),\"wb\") as output:\n",
    "                output.write(text_utf)\n",
    "            \n",
    "        sys.stdout.flush()\n",
    "        \n",
    "if __name__==\"__main__\":\n",
    " start_time=time.time()\n",
    " retrieve_html()\n",
    " stop_time=time.time()\n",
    " print(\"Time taken {}\".format(stop_time-start_time))\n",
    "        "
   ]
  },
  {
   "cell_type": "code",
   "execution_count": 3,
   "id": "7b723619",
   "metadata": {},
   "outputs": [],
   "source": [
    "import requests\n",
    "import sys\n",
    "import pandas as pd\n",
    "from bs4 import BeautifulSoup\n",
    "import os\n",
    "import csv"
   ]
  },
  {
   "cell_type": "code",
   "execution_count": 9,
   "id": "57727c80",
   "metadata": {},
   "outputs": [
    {
     "ename": "OSError",
     "evalue": "[Errno 22] Invalid argument: 'file:///C:/Users/DELL/Data_Set1/Html_Data_Set1/2013/12.html2013.csv'",
     "output_type": "error",
     "traceback": [
      "\u001b[1;31m---------------------------------------------------------------------------\u001b[0m",
      "\u001b[1;31mOSError\u001b[0m                                   Traceback (most recent call last)",
      "Input \u001b[1;32mIn [9]\u001b[0m, in \u001b[0;36m<cell line: 48>\u001b[1;34m()\u001b[0m\n\u001b[0;32m     51\u001b[0m \u001b[38;5;28;01mfor\u001b[39;00m year \u001b[38;5;129;01min\u001b[39;00m \u001b[38;5;28mrange\u001b[39m(\u001b[38;5;241m2013\u001b[39m, \u001b[38;5;241m2017\u001b[39m):\n\u001b[0;32m     52\u001b[0m     final_data \u001b[38;5;241m=\u001b[39m []\n\u001b[1;32m---> 53\u001b[0m     \u001b[38;5;28;01mwith\u001b[39;00m \u001b[38;5;28;43mopen\u001b[39;49m\u001b[43m(\u001b[49m\u001b[38;5;124;43m'\u001b[39;49m\u001b[38;5;124;43mfile:///C:/Users/DELL/Data_Set1/Html_Data_Set1/2013/12.html\u001b[39;49m\u001b[38;5;124;43m'\u001b[39;49m\u001b[43m \u001b[49m\u001b[38;5;241;43m+\u001b[39;49m\u001b[43m \u001b[49m\u001b[38;5;28;43mstr\u001b[39;49m\u001b[43m(\u001b[49m\u001b[43myear\u001b[49m\u001b[43m)\u001b[49m\u001b[43m \u001b[49m\u001b[38;5;241;43m+\u001b[39;49m\u001b[43m \u001b[49m\u001b[38;5;124;43m'\u001b[39;49m\u001b[38;5;124;43m.csv\u001b[39;49m\u001b[38;5;124;43m'\u001b[39;49m\u001b[43m,\u001b[49m\u001b[43m \u001b[49m\u001b[38;5;124;43m'\u001b[39;49m\u001b[38;5;124;43mw\u001b[39;49m\u001b[38;5;124;43m'\u001b[39;49m\u001b[43m)\u001b[49m \u001b[38;5;28;01mas\u001b[39;00m csvfile:\n\u001b[0;32m     54\u001b[0m         wr \u001b[38;5;241m=\u001b[39m csv\u001b[38;5;241m.\u001b[39mwriter(csvfile, dialect\u001b[38;5;241m=\u001b[39m\u001b[38;5;124m'\u001b[39m\u001b[38;5;124mexcel\u001b[39m\u001b[38;5;124m'\u001b[39m)\n\u001b[0;32m     55\u001b[0m         wr\u001b[38;5;241m.\u001b[39mwriterow(\n\u001b[0;32m     56\u001b[0m             [\u001b[38;5;124m'\u001b[39m\u001b[38;5;124mT\u001b[39m\u001b[38;5;124m'\u001b[39m, \u001b[38;5;124m'\u001b[39m\u001b[38;5;124mTM\u001b[39m\u001b[38;5;124m'\u001b[39m, \u001b[38;5;124m'\u001b[39m\u001b[38;5;124mTm\u001b[39m\u001b[38;5;124m'\u001b[39m, \u001b[38;5;124m'\u001b[39m\u001b[38;5;124mSLP\u001b[39m\u001b[38;5;124m'\u001b[39m, \u001b[38;5;124m'\u001b[39m\u001b[38;5;124mH\u001b[39m\u001b[38;5;124m'\u001b[39m, \u001b[38;5;124m'\u001b[39m\u001b[38;5;124mVV\u001b[39m\u001b[38;5;124m'\u001b[39m, \u001b[38;5;124m'\u001b[39m\u001b[38;5;124mV\u001b[39m\u001b[38;5;124m'\u001b[39m, \u001b[38;5;124m'\u001b[39m\u001b[38;5;124mVM\u001b[39m\u001b[38;5;124m'\u001b[39m, \u001b[38;5;124m'\u001b[39m\u001b[38;5;124mPM 2.5\u001b[39m\u001b[38;5;124m'\u001b[39m])\n",
      "\u001b[1;31mOSError\u001b[0m: [Errno 22] Invalid argument: 'file:///C:/Users/DELL/Data_Set1/Html_Data_Set1/2013/12.html2013.csv'"
     ]
    }
   ],
   "source": [
    "def met_data(month, year):\n",
    "\n",
    "    file_html = open('Data_Set1/Html_Data_Set1/{}/{}.html'.format(year,month), 'rb')\n",
    "    plain_text = file_html.read()\n",
    "\n",
    "    tempD = []\n",
    "    finalD = []\n",
    "\n",
    "    soup = BeautifulSoup(plain_text, \"lxml\")\n",
    "    for table in soup.findAll('table', {'class': 'medias mensuales numspan'}):\n",
    "        for tbody in table:\n",
    "            for tr in tbody:\n",
    "                a = tr.get_text()\n",
    "                tempD.append(a)\n",
    "\n",
    "    rows = len(tempD) / 15\n",
    "\n",
    "    for times in range(round(rows)):\n",
    "        newtempD = []\n",
    "        for i in range(15):\n",
    "            newtempD.append(tempD[0])\n",
    "            tempD.pop(0)\n",
    "        finalD.append(newtempD)\n",
    "\n",
    "    length = len(finalD)\n",
    "\n",
    "    finalD.pop(length - 1)\n",
    "    finalD.pop(0)\n",
    "\n",
    "    for a in range(len(finalD)):\n",
    "        finalD[a].pop(6)\n",
    "        finalD[a].pop(13)\n",
    "        finalD[a].pop(12)\n",
    "        finalD[a].pop(11)\n",
    "        finalD[a].pop(10)\n",
    "        finalD[a].pop(9)\n",
    "        finalD[a].pop(0)\n",
    "\n",
    "    return finalD\n",
    "\n",
    "def data_combine(year, cs):\n",
    "    for a in pd.read_csv('Data_Set1/Real-Data_Set1/real_' + str(year) + '.csv', chunksize=cs):\n",
    "        df = pd.DataFrame(data=a)\n",
    "        mylist = df.values.tolist()\n",
    "    return mylist\n",
    "\n",
    "\n",
    "if __name__ == \"__main__\":\n",
    "    if not os.path.exists(\"Data_Set1/Real-Data_Set1\"):\n",
    "        os.makedirs(\"Data_Set1/Real-Data_Set1\")\n",
    "    for year in range(2013, 2017):\n",
    "        final_data = []\n",
    "        with open('file:///C:/Users/DELL/Data_Set1/Html_Data_Set1/2013/12.html' + str(year) + '.csv', 'w') as csvfile:\n",
    "            wr = csv.writer(csvfile, dialect='excel')\n",
    "            wr.writerow(\n",
    "                ['T', 'TM', 'Tm', 'SLP', 'H', 'VV', 'V', 'VM', 'PM 2.5'])\n",
    "        for month in range(1, 13):\n",
    "            temp = met_data(month, year)\n",
    "            final_data = final_data + temp\n",
    "\n",
    "        pm = getattr(sys.modules[__name__], 'avg_data_{}'.format(year))()\n",
    "\n",
    "        if len(pm) == 364:\n",
    "            pm.insert(364, '-')\n",
    "\n",
    "        for i in range(len(final_data)-1):\n",
    "            # final[i].insert(0, i + 1)\n",
    "            final_data[i].insert(8, pm[i])\n",
    "\n",
    "        with open('Data_Set1/Real-Data_Set1/real_' + str(year) + '.csv', 'a') as csvfile:\n",
    "            wr = csv.writer(csvfile, dialect='excel')\n",
    "            for row in final_data:\n",
    "                flag = 0\n",
    "                for elem in row:\n",
    "                    if elem == \"\" or elem == \"-\":\n",
    "                        flag = 1\n",
    "                if flag != 1:\n",
    "                    wr.writerow(row)\n",
    "\n",
    "    data_2013 = data_combine(2013, 600)\n",
    "    data_2014 = data_combine(2014, 600)\n",
    "    data_2015 = data_combine(2015, 600)\n",
    "    data_2016 = data_combine(2016, 600)\n",
    "\n",
    "    total=data_2013+data_2014+data_2015+data_2016\n",
    "\n",
    "    with open('Data_Set1/Real-Data_Set1/Real_Combine.csv', 'w') as csvfile:\n",
    "        wr = csv.writer(csvfile, dialect='excel')\n",
    "        wr.writerow(\n",
    "            ['T', 'TM', 'Tm', 'SLP', 'H', 'VV', 'V', 'VM', 'PM 2.5'])\n",
    "        wr.writerows(total)\n",
    "\n",
    "\n",
    "df=pd.read_csv('Data_Set1/Real-Data_Set1/AQI_Combine.csv')"
   ]
  },
  {
   "cell_type": "code",
   "execution_count": null,
   "id": "6a157b62",
   "metadata": {},
   "outputs": [],
   "source": []
  }
 ],
 "metadata": {
  "kernelspec": {
   "display_name": "Python 3 (ipykernel)",
   "language": "python",
   "name": "python3"
  },
  "language_info": {
   "codemirror_mode": {
    "name": "ipython",
    "version": 3
   },
   "file_extension": ".py",
   "mimetype": "text/x-python",
   "name": "python",
   "nbconvert_exporter": "python",
   "pygments_lexer": "ipython3",
   "version": "3.9.12"
  }
 },
 "nbformat": 4,
 "nbformat_minor": 5
}
